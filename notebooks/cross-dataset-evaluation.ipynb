{
 "cells": [
  {
   "cell_type": "markdown",
   "id": "8c60396a",
   "metadata": {
    "papermill": {
     "duration": 0.003384,
     "end_time": "2025-10-19T08:56:34.447425",
     "exception": false,
     "start_time": "2025-10-19T08:56:34.444041",
     "status": "completed"
    },
    "tags": []
   },
   "source": [
    "=== STEP 1. SETUP AND IMPORTS ==="
   ]
  },
  {
   "cell_type": "code",
   "execution_count": 1,
   "id": "9f0d6ebe",
   "metadata": {
    "_cell_guid": "b1076dfc-b9ad-4769-8c92-a6c4dae69d19",
    "_uuid": "8f2839f25d086af736a60e9eeb907d3b93b6e0e5",
    "execution": {
     "iopub.execute_input": "2025-10-19T08:56:34.454275Z",
     "iopub.status.busy": "2025-10-19T08:56:34.453647Z",
     "iopub.status.idle": "2025-10-19T08:56:35.420469Z",
     "shell.execute_reply": "2025-10-19T08:56:35.419593Z"
    },
    "papermill": {
     "duration": 0.97151,
     "end_time": "2025-10-19T08:56:35.421720",
     "exception": false,
     "start_time": "2025-10-19T08:56:34.450210",
     "status": "completed"
    },
    "tags": []
   },
   "outputs": [
    {
     "name": "stdout",
     "output_type": "stream",
     "text": [
      "Cloning into 'Deep-Learning-Based-Signature-Forgery-Detection-for-Personal-Identity-Authentication-Update'...\r\n",
      "remote: Enumerating objects: 205, done.\u001b[K\r\n",
      "remote: Counting objects: 100% (205/205), done.\u001b[K\r\n",
      "remote: Compressing objects: 100% (143/143), done.\u001b[K\r\n",
      "remote: Total 205 (delta 100), reused 160 (delta 58), pack-reused 0 (from 0)\u001b[K\r\n",
      "Receiving objects: 100% (205/205), 445.09 KiB | 12.36 MiB/s, done.\r\n",
      "Resolving deltas: 100% (100/100), done.\r\n",
      "/kaggle/working/Deep-Learning-Based-Signature-Forgery-Detection-for-Personal-Identity-Authentication-Update\n"
     ]
    }
   ],
   "source": [
    "# Always pull the latest repo to ensure consistency\n",
    "!rm -rf Deep-Learning-Based-Signature-Forgery-Detection-for-Personal-Identity-Authentication-Update\n",
    "!git clone https://github.com/trongjhuongwr/Deep-Learning-Based-Signature-Forgery-Detection-for-Personal-Identity-Authentication-Update.git\n",
    "%cd Deep-Learning-Based-Signature-Forgery-Detection-for-Personal-Identity-Authentication-Update"
   ]
  },
  {
   "cell_type": "code",
   "execution_count": 2,
   "id": "601f2fe2",
   "metadata": {
    "execution": {
     "iopub.execute_input": "2025-10-19T08:56:35.429910Z",
     "iopub.status.busy": "2025-10-19T08:56:35.429655Z",
     "iopub.status.idle": "2025-10-19T08:56:47.100193Z",
     "shell.execute_reply": "2025-10-19T08:56:47.099366Z"
    },
    "papermill": {
     "duration": 11.675704,
     "end_time": "2025-10-19T08:56:47.101446",
     "exception": false,
     "start_time": "2025-10-19T08:56:35.425742",
     "status": "completed"
    },
    "tags": []
   },
   "outputs": [
    {
     "name": "stdout",
     "output_type": "stream",
     "text": [
      "Setup and Imports successful!\n"
     ]
    }
   ],
   "source": [
    "import torch\n",
    "from torch.utils.data import DataLoader\n",
    "from torchvision import transforms\n",
    "import numpy as np\n",
    "import random\n",
    "import os\n",
    "import json\n",
    "import sys\n",
    "from tqdm.notebook import tqdm\n",
    "import matplotlib.pyplot as plt\n",
    "import pandas as pd\n",
    "import time\n",
    "\n",
    "# Ensure repo code is importable\n",
    "sys.path.append(os.path.abspath(os.getcwd()))\n",
    "\n",
    "from dataloader.meta_dataloader import SignatureEpisodeDataset\n",
    "from models.feature_extractor import ResNetFeatureExtractor\n",
    "from models.meta_learner import MetricGenerator\n",
    "from utils.model_evaluation import evaluate_meta_model, plot_roc_curve, plot_confusion_matrix\n",
    "from utils.helpers import MemoryTracker\n",
    "\n",
    "print(\"Setup and Imports successful!\")"
   ]
  },
  {
   "cell_type": "markdown",
   "id": "07e06ee7",
   "metadata": {
    "papermill": {
     "duration": 0.003099,
     "end_time": "2025-10-19T08:56:47.107933",
     "exception": false,
     "start_time": "2025-10-19T08:56:47.104834",
     "status": "completed"
    },
    "tags": []
   },
   "source": [
    "=== STEP 2. CONFIGURATION ==="
   ]
  },
  {
   "cell_type": "code",
   "execution_count": 3,
   "id": "6cdca29d",
   "metadata": {
    "execution": {
     "iopub.execute_input": "2025-10-19T08:56:47.115665Z",
     "iopub.status.busy": "2025-10-19T08:56:47.114785Z",
     "iopub.status.idle": "2025-10-19T08:56:47.187828Z",
     "shell.execute_reply": "2025-10-19T08:56:47.186911Z"
    },
    "papermill": {
     "duration": 0.078034,
     "end_time": "2025-10-19T08:56:47.189028",
     "exception": false,
     "start_time": "2025-10-19T08:56:47.110994",
     "status": "completed"
    },
    "tags": []
   },
   "outputs": [
    {
     "name": "stdout",
     "output_type": "stream",
     "text": [
      "Using device: cuda\n",
      "Seed set to 42\n",
      "Best CEDAR model path: /kaggle/input/best-cedar-model-weights/best_model_fold_5\n",
      "BHSig-260 raw data path: /kaggle/input/bhsig260-hindi-bengali\n",
      "Bengali split file will be at: /kaggle/working/bhsig_bengali_meta_test.json\n",
      "Hindi split file will be at: /kaggle/working/bhsig_hindi_meta_test.json\n",
      "Using 0 data loader workers.\n"
     ]
    }
   ],
   "source": [
    "# Meta-Learning Parameters for Evaluation\n",
    "K_SHOT = 10\n",
    "N_QUERY_GENUINE = 14\n",
    "N_QUERY_FORGERY = 14\n",
    "\n",
    "# Device\n",
    "DEVICE = torch.device('cuda' if torch.cuda.is_available() else 'cpu')\n",
    "print(f\"Using device: {DEVICE}\")\n",
    "\n",
    "# Paths (adjust to your environment)\n",
    "BEST_CEDAR_MODEL_DIR = '/kaggle/input/best-cedar-model-weights/best_model_fold_5'  # example\n",
    "BHSIG_RAW_BASE_DIR = '/kaggle/input/bhsig260-hindi-bengali'  # folder containing 'Bengali' and 'Hindi'\n",
    "SPLIT_OUTPUT_DIR = '/kaggle/working/'\n",
    "BENGALI_SPLIT_FILE = os.path.join(SPLIT_OUTPUT_DIR, 'bhsig_bengali_meta_test.json')\n",
    "HINDI_SPLIT_FILE = os.path.join(SPLIT_OUTPUT_DIR, 'bhsig_hindi_meta_test.json')\n",
    "\n",
    "SEED = 42\n",
    "def set_seed(seed):\n",
    "    random.seed(seed)\n",
    "    np.random.seed(seed)\n",
    "    torch.manual_seed(seed)\n",
    "    if torch.cuda.is_available():\n",
    "        torch.cuda.manual_seed_all(seed)\n",
    "set_seed(SEED)\n",
    "print(f\"Seed set to {SEED}\")\n",
    "\n",
    "print(f\"Best CEDAR model path: {BEST_CEDAR_MODEL_DIR}\")\n",
    "print(f\"BHSig-260 raw data path: {BHSIG_RAW_BASE_DIR}\")\n",
    "print(f\"Bengali split file will be at: {BENGALI_SPLIT_FILE}\")\n",
    "print(f\"Hindi split file will be at: {HINDI_SPLIT_FILE}\")\n",
    "\n",
    "# Workers\n",
    "NUM_WORKERS = os.cpu_count() // 2 if 'kaggle' in os.environ.get('KAGGLE_KERNEL_RUN_TYPE', '') else 0\n",
    "print(f\"Using {NUM_WORKERS} data loader workers.\")"
   ]
  },
  {
   "cell_type": "markdown",
   "id": "d88376b4",
   "metadata": {
    "papermill": {
     "duration": 0.003057,
     "end_time": "2025-10-19T08:56:47.195466",
     "exception": false,
     "start_time": "2025-10-19T08:56:47.192409",
     "status": "completed"
    },
    "tags": []
   },
   "source": [
    "=== STEP 3. PREPARE BHSIG-260 SPLIT FILE ==="
   ]
  },
  {
   "cell_type": "code",
   "execution_count": 4,
   "id": "fb56f5e6",
   "metadata": {
    "execution": {
     "iopub.execute_input": "2025-10-19T08:56:47.202898Z",
     "iopub.status.busy": "2025-10-19T08:56:47.202361Z",
     "iopub.status.idle": "2025-10-19T08:56:47.684865Z",
     "shell.execute_reply": "2025-10-19T08:56:47.683831Z"
    },
    "papermill": {
     "duration": 0.487802,
     "end_time": "2025-10-19T08:56:47.686398",
     "exception": false,
     "start_time": "2025-10-19T08:56:47.198596",
     "status": "completed"
    },
    "tags": []
   },
   "outputs": [
    {
     "name": "stdout",
     "output_type": "stream",
     "text": [
      "Running command: python scripts/restructure_bhsig.py --base_dir /kaggle/input/bhsig260-hindi-bengali --output_dir /kaggle/working/ --seed 42 --num_bengali 100 --num_hindi 160\n",
      "--- Starting BHSig-260 (nth2165) Dataset Restructuring ---\r\n",
      "Scanning source directories...\r\n",
      "  Processing: /kaggle/input/bhsig260-hindi-bengali/BHSig160_Hindi/Genuine\r\n",
      "  Processing: /kaggle/input/bhsig260-hindi-bengali/BHSig160_Hindi/Forged\r\n",
      "  Processing: /kaggle/input/bhsig260-hindi-bengali/BHSig100_Bengali/Genuine\r\n",
      "  Processing: /kaggle/input/bhsig260-hindi-bengali/BHSig100_Bengali/Forged\r\n",
      "Finished scanning. Processed 14040 files, skipped 0.\r\n",
      "Found data for 260 unique users (Bengali + Hindi).\r\n",
      "  Available Bengali users: 100\r\n",
      "  Available Hindi users: 160\r\n",
      "Selected 100 Bengali users for Bengali test split.\r\n",
      "Selected 160 Hindi users for Hindi test split.\r\n",
      "  Successfully saved Bengali meta-test split to: /kaggle/working/bhsig_bengali_meta_test.json\r\n",
      "  Successfully saved Hindi meta-test split to: /kaggle/working/bhsig_hindi_meta_test.json\r\n",
      "--- BHSig-260 Restructuring Complete ---\r\n",
      "BHSig-260 Bengali and Hindi split files generated successfully.\n"
     ]
    }
   ],
   "source": [
    "script_path = 'scripts/restructure_bhsig.py'\n",
    "\n",
    "# Choose how many test users to extract per language\n",
    "NUM_BENGALI_TEST = 100\n",
    "NUM_HINDI_TEST = 160\n",
    "\n",
    "command = (\n",
    "    f\"python {script_path} \"\n",
    "    f\"--base_dir {BHSIG_RAW_BASE_DIR} \"\n",
    "    f\"--output_dir {SPLIT_OUTPUT_DIR} \"\n",
    "    f\"--seed {SEED} \"\n",
    "    f\"--num_bengali {NUM_BENGALI_TEST} \"\n",
    "    f\"--num_hindi {NUM_HINDI_TEST}\"\n",
    ")\n",
    "\n",
    "print(f\"Running command: {command}\")\n",
    "!{command}\n",
    "\n",
    "# Verify outputs\n",
    "if not os.path.exists(BENGALI_SPLIT_FILE):\n",
    "    print(f\"Error: Bengali split file not found at {BENGALI_SPLIT_FILE}.\")\n",
    "    raise FileNotFoundError(\"Bengali split file creation failed.\")\n",
    "if not os.path.exists(HINDI_SPLIT_FILE):\n",
    "    print(f\"Error: Hindi split file not found at {HINDI_SPLIT_FILE}.\")\n",
    "    raise FileNotFoundError(\"Hindi split file creation failed.\")\n",
    "\n",
    "print(\"BHSig-260 Bengali and Hindi split files generated successfully.\")"
   ]
  },
  {
   "cell_type": "markdown",
   "id": "1f47031e",
   "metadata": {
    "papermill": {
     "duration": 0.003308,
     "end_time": "2025-10-19T08:56:47.693560",
     "exception": false,
     "start_time": "2025-10-19T08:56:47.690252",
     "status": "completed"
    },
    "tags": []
   },
   "source": [
    "=== STEP 4. LOAD THE BEST MODEL TRAINED ON CEDAR ==="
   ]
  },
  {
   "cell_type": "code",
   "execution_count": 5,
   "id": "ae2427b2",
   "metadata": {
    "execution": {
     "iopub.execute_input": "2025-10-19T08:56:47.701724Z",
     "iopub.status.busy": "2025-10-19T08:56:47.701253Z",
     "iopub.status.idle": "2025-10-19T08:56:59.498152Z",
     "shell.execute_reply": "2025-10-19T08:56:59.497273Z"
    },
    "papermill": {
     "duration": 11.802378,
     "end_time": "2025-10-19T08:56:59.499386",
     "exception": false,
     "start_time": "2025-10-19T08:56:47.697008",
     "status": "completed"
    },
    "tags": []
   },
   "outputs": [
    {
     "name": "stdout",
     "output_type": "stream",
     "text": [
      "--- Loading the best model trained on CEDAR from /kaggle/input/best-cedar-model-weights/best_model_fold_5 ---\n"
     ]
    },
    {
     "name": "stderr",
     "output_type": "stream",
     "text": [
      "Downloading: \"https://download.pytorch.org/models/resnet34-b627a593.pth\" to /root/.cache/torch/hub/checkpoints/resnet34-b627a593.pth\n",
      "100%|██████████| 83.3M/83.3M [00:00<00:00, 198MB/s]\n"
     ]
    },
    {
     "name": "stdout",
     "output_type": "stream",
     "text": [
      "Initialized MetricGenerator with Attention. Embedding dim: 512, Hidden dim: 1024, Dropout: 0.3.\n",
      "Successfully loaded model weights trained on CEDAR!\n"
     ]
    }
   ],
   "source": [
    "print(f\"--- Loading the best model trained on CEDAR from {BEST_CEDAR_MODEL_DIR} ---\")\n",
    "\n",
    "OUTPUT_DIM = 512  # must match training\n",
    "feature_extractor = ResNetFeatureExtractor(backbone_name='resnet34', output_dim=OUTPUT_DIM)\n",
    "metric_generator = MetricGenerator(embedding_dim=OUTPUT_DIM)\n",
    "\n",
    "fe_path = os.path.join(BEST_CEDAR_MODEL_DIR, 'best_feature_extractor.pth')\n",
    "mg_path = os.path.join(BEST_CEDAR_MODEL_DIR, 'best_metric_generator.pth')\n",
    "\n",
    "load_success = True\n",
    "try:\n",
    "    if not os.path.exists(fe_path):\n",
    "        raise FileNotFoundError(f\"Feature extractor weights not found: {fe_path}\")\n",
    "    if not os.path.exists(mg_path):\n",
    "        raise FileNotFoundError(f\"Metric generator weights not found: {mg_path}\")\n",
    "\n",
    "    feature_extractor.load_state_dict(torch.load(fe_path, map_location=DEVICE))\n",
    "    metric_generator.load_state_dict(torch.load(mg_path, map_location=DEVICE))\n",
    "\n",
    "    feature_extractor.to(DEVICE)\n",
    "    metric_generator.to(DEVICE)\n",
    "\n",
    "    feature_extractor.eval()\n",
    "    metric_generator.eval()\n",
    "\n",
    "    print(\"Successfully loaded model weights trained on CEDAR!\")\n",
    "except FileNotFoundError as e:\n",
    "    print(f\"Error: {e}\")\n",
    "    print(\"Please ensure the BEST_CEDAR_MODEL_DIR path is correct and the dataset is added.\")\n",
    "    load_success = False\n",
    "except Exception as e:\n",
    "    print(f\"An unexpected error occurred while loading model weights: {e}\")\n",
    "    load_success = False\n",
    "\n",
    "if not load_success:\n",
    "    raise RuntimeError(\"Failed to load model weights. Cannot proceed with evaluation.\")"
   ]
  },
  {
   "cell_type": "markdown",
   "id": "1ea8aabb",
   "metadata": {
    "papermill": {
     "duration": 0.003788,
     "end_time": "2025-10-19T08:56:59.507396",
     "exception": false,
     "start_time": "2025-10-19T08:56:59.503608",
     "status": "completed"
    },
    "tags": []
   },
   "source": [
    "=== STEP 5. DEFINE EVALUATION HELPER FUNCTION ==="
   ]
  },
  {
   "cell_type": "code",
   "execution_count": 6,
   "id": "102d1ac2",
   "metadata": {
    "execution": {
     "iopub.execute_input": "2025-10-19T08:56:59.516027Z",
     "iopub.status.busy": "2025-10-19T08:56:59.515753Z",
     "iopub.status.idle": "2025-10-19T08:56:59.525342Z",
     "shell.execute_reply": "2025-10-19T08:56:59.524568Z"
    },
    "papermill": {
     "duration": 0.015284,
     "end_time": "2025-10-19T08:56:59.526440",
     "exception": false,
     "start_time": "2025-10-19T08:56:59.511156",
     "status": "completed"
    },
    "tags": []
   },
   "outputs": [],
   "source": [
    "def run_evaluation(language_name, split_file, base_dir_ignored=None):\n",
    "    \"\"\"Runs evaluation on a specific language dataset and prints/plots results.\"\"\"\n",
    "    print(f\"\\n--- Creating evaluation dataset for BHSig-260 ({language_name}) ---\")\n",
    "\n",
    "    eval_transform = transforms.Compose([\n",
    "        transforms.Resize((220, 150)),\n",
    "        transforms.Grayscale(),\n",
    "        transforms.ToTensor(),\n",
    "        transforms.Lambda(lambda x: x.repeat(3, 1, 1)),\n",
    "        transforms.Normalize(mean=[0.5, 0.5, 0.5], std=[0.5, 0.5, 0.5])\n",
    "    ])\n",
    "\n",
    "    try:\n",
    "        test_dataset = SignatureEpisodeDataset(\n",
    "            split_file_path=split_file,\n",
    "            base_data_dir=None,      # not needed when use_full_path=True\n",
    "            split_name='meta-test',\n",
    "            k_shot=K_SHOT,\n",
    "            n_query_genuine=N_QUERY_GENUINE,\n",
    "            n_query_forgery=N_QUERY_FORGERY,\n",
    "            augment=False,\n",
    "            use_full_path=True\n",
    "        )\n",
    "        print(f\"Successfully created {language_name} evaluation dataset with {len(test_dataset)} episodes.\")\n",
    "    except Exception as e:\n",
    "        print(f\"Error creating {language_name} dataset: {e}\")\n",
    "        return None\n",
    "\n",
    "    print(f\"\\n--- Starting Cross-Dataset Evaluation on BHSig-260 ({language_name}) --- ({len(test_dataset)} users) ---\")\n",
    "    eval_start_time = time.time()\n",
    "\n",
    "    # (optional) memory tracking\n",
    "    mem_tracker = None\n",
    "    if DEVICE.type == 'cuda':\n",
    "        try:\n",
    "            mem_tracker = MemoryTracker(DEVICE)\n",
    "            initial_mem = mem_tracker.get_used_memory_mb()\n",
    "        except Exception:\n",
    "            mem_tracker = None\n",
    "            initial_mem = None\n",
    "    else:\n",
    "        initial_mem = None\n",
    "\n",
    "    # Evaluate\n",
    "    results_dict, true_labels, predictions, distances = evaluate_meta_model(\n",
    "        feature_extractor,\n",
    "        metric_generator,\n",
    "        test_dataset,\n",
    "        DEVICE\n",
    "    )\n",
    "\n",
    "    eval_duration = time.time() - eval_start_time\n",
    "    print(f\"--- {language_name} Evaluation Finished (Duration: {eval_duration:.2f}s) ---\")\n",
    "\n",
    "    print(f\"\\n--- CROSS-DATASET EVALUATION RESULTS (CEDAR -> BHSig-260 {language_name}) ---\")\n",
    "    if results_dict:\n",
    "        print(\"Overall Performance Metrics:\")\n",
    "        for metric, value in results_dict.items():\n",
    "            if metric == 'accuracy':\n",
    "                print(f\"  - {metric.capitalize()}: {value*100:.2f}%\")\n",
    "            else:\n",
    "                print(f\"  - {metric.capitalize()}: {value:.4f}\")\n",
    "    else:\n",
    "        print(\"Evaluation failed to produce results.\")\n",
    "        return None\n",
    "\n",
    "    # Visualizations\n",
    "    if true_labels and predictions and distances:\n",
    "        print(\"\\nVisualizations:\")\n",
    "        plot_title_prefix = f\"Cross-Dataset (CEDAR -> BHSig-260 {language_name})\"\n",
    "        plot_roc_curve(true_labels, distances, title=f'{plot_title_prefix} - ROC Curve')\n",
    "        plot_confusion_matrix(true_labels, predictions, title=f'{plot_title_prefix} - Confusion Matrix')\n",
    "    else:\n",
    "        print(\"\\nSkipping visualizations due to lack of valid evaluation data.\")\n",
    "\n",
    "    # Memory report\n",
    "    if mem_tracker:\n",
    "        try:\n",
    "            final_mem = mem_tracker.get_used_memory_mb()\n",
    "            print(f\"\\nInitial GPU Mem: {initial_mem:.2f} MB\")\n",
    "            print(f\"Final GPU Mem: {final_mem:.2f} MB\")\n",
    "            print(f\"≈ Used During Eval: {final_mem - initial_mem:.2f} MB\")\n",
    "        except Exception:\n",
    "            pass\n",
    "        del mem_tracker\n",
    "\n",
    "    print(\"---------------------------------------------------------------------\")\n",
    "    return results_dict"
   ]
  },
  {
   "cell_type": "markdown",
   "id": "45a1e5d1",
   "metadata": {
    "papermill": {
     "duration": 0.003586,
     "end_time": "2025-10-19T08:56:59.533898",
     "exception": false,
     "start_time": "2025-10-19T08:56:59.530312",
     "status": "completed"
    },
    "tags": []
   },
   "source": [
    "=== STEP 6. RUN EVALUATION FOR BENGALI ==="
   ]
  },
  {
   "cell_type": "code",
   "execution_count": 7,
   "id": "783f9216",
   "metadata": {
    "execution": {
     "iopub.execute_input": "2025-10-19T08:56:59.542140Z",
     "iopub.status.busy": "2025-10-19T08:56:59.541913Z",
     "iopub.status.idle": "2025-10-19T08:57:30.428545Z",
     "shell.execute_reply": "2025-10-19T08:57:30.427634Z"
    },
    "papermill": {
     "duration": 30.892251,
     "end_time": "2025-10-19T08:57:30.429877",
     "exception": false,
     "start_time": "2025-10-19T08:56:59.537626",
     "status": "completed"
    },
    "tags": []
   },
   "outputs": [
    {
     "name": "stdout",
     "output_type": "stream",
     "text": [
      "\n",
      "--- Creating evaluation dataset for BHSig-260 (Bengali) ---\n",
      "Initialized SignatureEpisodeDataset for 'meta-test' split.\n",
      "  Number of users/episodes: 100\n",
      "  k_shot: 10, n_query_genuine: 14, n_query_forgery: 14\n",
      "  Augmentation: Disabled\n",
      "  Using full paths: True\n",
      "Successfully created Bengali evaluation dataset with 100 episodes.\n",
      "\n",
      "--- Starting Cross-Dataset Evaluation on BHSig-260 (Bengali) --- (100 users) ---\n",
      "MemoryTracker initialized for device cuda:0. Initial used memory: 1502.88 MB\n"
     ]
    },
    {
     "data": {
      "application/vnd.jupyter.widget-view+json": {
       "model_id": "056ed31bb8df4f2aa5abac9b199c0180",
       "version_major": 2,
       "version_minor": 0
      },
      "text/plain": [
       "Meta-Testing:   0%|          | 0/100 [00:00<?, ?it/s]"
      ]
     },
     "metadata": {},
     "output_type": "display_data"
    },
    {
     "name": "stdout",
     "output_type": "stream",
     "text": [
      "--- Bengali Evaluation Finished (Duration: 30.54s) ---\n",
      "\n",
      "--- CROSS-DATASET EVALUATION RESULTS (CEDAR -> BHSig-260 Bengali) ---\n",
      "Overall Performance Metrics:\n",
      "  - Accuracy: 79.75%\n",
      "  - Precision: 0.7793\n",
      "  - Recall: 0.8300\n",
      "  - F1_score: 0.8039\n",
      "  - Roc_auc: 0.7565\n",
      "\n",
      "Visualizations:\n"
     ]
    },
    {
     "data": {
      "image/png": "[encoded data removed]",
      "text/plain": [
       "<Figure size 800x600 with 1 Axes>"
      ]
     },
     "metadata": {},
     "output_type": "display_data"
    },
    {
     "data": {
      "image/png": "[encoded data removed]",
      "text/plain": [
       "<Figure size 700x500 with 2 Axes>"
      ]
     },
     "metadata": {},
     "output_type": "display_data"
    },
    {
     "name": "stdout",
     "output_type": "stream",
     "text": [
      "\n",
      "Initial GPU Mem: 1502.88 MB\n",
      "Final GPU Mem: 1800.88 MB\n",
      "≈ Used During Eval: 298.00 MB\n",
      "---------------------------------------------------------------------\n"
     ]
    }
   ],
   "source": [
    "bengali_results = run_evaluation(\"Bengali\", BENGALI_SPLIT_FILE)"
   ]
  },
  {
   "cell_type": "markdown",
   "id": "b3371e88",
   "metadata": {
    "papermill": {
     "duration": 0.005109,
     "end_time": "2025-10-19T08:57:30.440875",
     "exception": false,
     "start_time": "2025-10-19T08:57:30.435766",
     "status": "completed"
    },
    "tags": []
   },
   "source": [
    "=== STEP 7. RUN EVALUATION FOR HINDI ==="
   ]
  },
  {
   "cell_type": "code",
   "execution_count": 8,
   "id": "d2a87ca9",
   "metadata": {
    "execution": {
     "iopub.execute_input": "2025-10-19T08:57:30.452447Z",
     "iopub.status.busy": "2025-10-19T08:57:30.451965Z",
     "iopub.status.idle": "2025-10-19T08:58:24.404777Z",
     "shell.execute_reply": "2025-10-19T08:58:24.403910Z"
    },
    "papermill": {
     "duration": 53.960407,
     "end_time": "2025-10-19T08:58:24.406429",
     "exception": false,
     "start_time": "2025-10-19T08:57:30.446022",
     "status": "completed"
    },
    "tags": []
   },
   "outputs": [
    {
     "name": "stdout",
     "output_type": "stream",
     "text": [
      "\n",
      "--- Creating evaluation dataset for BHSig-260 (Hindi) ---\n",
      "Initialized SignatureEpisodeDataset for 'meta-test' split.\n",
      "  Number of users/episodes: 160\n",
      "  k_shot: 10, n_query_genuine: 14, n_query_forgery: 14\n",
      "  Augmentation: Disabled\n",
      "  Using full paths: True\n",
      "Successfully created Hindi evaluation dataset with 160 episodes.\n",
      "\n",
      "--- Starting Cross-Dataset Evaluation on BHSig-260 (Hindi) --- (160 users) ---\n",
      "MemoryTracker initialized for device cuda:0. Initial used memory: 1800.88 MB\n"
     ]
    },
    {
     "data": {
      "application/vnd.jupyter.widget-view+json": {
       "model_id": "7274fa936240441e9e60ff56da65538c",
       "version_major": 2,
       "version_minor": 0
      },
      "text/plain": [
       "Meta-Testing:   0%|          | 0/160 [00:00<?, ?it/s]"
      ]
     },
     "metadata": {},
     "output_type": "display_data"
    },
    {
     "name": "stdout",
     "output_type": "stream",
     "text": [
      "--- Hindi Evaluation Finished (Duration: 53.41s) ---\n",
      "\n",
      "--- CROSS-DATASET EVALUATION RESULTS (CEDAR -> BHSig-260 Hindi) ---\n",
      "Overall Performance Metrics:\n",
      "  - Accuracy: 74.11%\n",
      "  - Precision: 0.7121\n",
      "  - Recall: 0.8094\n",
      "  - F1_score: 0.7576\n",
      "  - Roc_auc: 0.6930\n",
      "\n",
      "Visualizations:\n"
     ]
    },
    {
     "data": {
      "image/png": "[encoded data removed]",
      "text/plain": [
       "<Figure size 800x600 with 1 Axes>"
      ]
     },
     "metadata": {},
     "output_type": "display_data"
    },
    {
     "data": {
      "image/png": "[encoded data removed]",
      "text/plain": [
       "<Figure size 700x500 with 2 Axes>"
      ]
     },
     "metadata": {},
     "output_type": "display_data"
    },
    {
     "name": "stdout",
     "output_type": "stream",
     "text": [
      "\n",
      "Initial GPU Mem: 1800.88 MB\n",
      "Final GPU Mem: 1800.88 MB\n",
      "≈ Used During Eval: 0.00 MB\n",
      "---------------------------------------------------------------------\n"
     ]
    }
   ],
   "source": [
    "hindi_results = run_evaluation(\"Hindi\", HINDI_SPLIT_FILE)"
   ]
  },
  {
   "cell_type": "markdown",
   "id": "a5afa60a",
   "metadata": {
    "papermill": {
     "duration": 0.006465,
     "end_time": "2025-10-19T08:58:24.420288",
     "exception": false,
     "start_time": "2025-10-19T08:58:24.413823",
     "status": "completed"
    },
    "tags": []
   },
   "source": [
    "=== STEP 8. SUMMARY AND FINAL MEMORY USAGE ==="
   ]
  },
  {
   "cell_type": "code",
   "execution_count": 9,
   "id": "9d6263ab",
   "metadata": {
    "execution": {
     "iopub.execute_input": "2025-10-19T08:58:24.434699Z",
     "iopub.status.busy": "2025-10-19T08:58:24.434062Z",
     "iopub.status.idle": "2025-10-19T08:58:24.444346Z",
     "shell.execute_reply": "2025-10-19T08:58:24.443499Z"
    },
    "papermill": {
     "duration": 0.018424,
     "end_time": "2025-10-19T08:58:24.445352",
     "exception": false,
     "start_time": "2025-10-19T08:58:24.426928",
     "status": "completed"
    },
    "tags": []
   },
   "outputs": [
    {
     "name": "stdout",
     "output_type": "stream",
     "text": [
      "\n",
      "\n",
      "=== FINAL SUMMARY ===\n",
      "\n",
      "Bengali Evaluation Summary:\n",
      "accuracy     0.797500\n",
      "precision    0.779343\n",
      "recall       0.830000\n",
      "f1_score     0.803874\n",
      "roc_auc      0.756464\n",
      "\n",
      "Hindi Evaluation Summary:\n",
      "accuracy     0.741071\n",
      "precision    0.712097\n",
      "recall       0.809375\n",
      "f1_score     0.757626\n",
      "roc_auc      0.692956\n",
      "\n",
      "=====================\n"
     ]
    }
   ],
   "source": [
    "print(\"\\n\\n=== FINAL SUMMARY ===\")\n",
    "if bengali_results:\n",
    "    print(\"\\nBengali Evaluation Summary:\")\n",
    "    print(pd.Series(bengali_results).to_string())\n",
    "else:\n",
    "    print(\"\\nNo Bengali results to display.\")\n",
    "\n",
    "if hindi_results:\n",
    "    print(\"\\nHindi Evaluation Summary:\")\n",
    "    print(pd.Series(hindi_results).to_string())\n",
    "else:\n",
    "    print(\"\\nNo Hindi results to display.\")\n",
    "\n",
    "print(\"\\n=====================\")\n"
   ]
  }
 ],
 "metadata": {
  "kaggle": {
   "accelerator": "gpu",
   "dataSources": [
    {
     "datasetId": 8498142,
     "sourceId": 13392355,
     "sourceType": "datasetVersion"
    },
    {
     "datasetId": 8524780,
     "sourceId": 13431146,
     "sourceType": "datasetVersion"
    }
   ],
   "dockerImageVersionId": 31154,
   "isGpuEnabled": true,
   "isInternetEnabled": true,
   "language": "python",
   "sourceType": "notebook"
  },
  "kernelspec": {
   "display_name": "Python 3",
   "language": "python",
   "name": "python3"
  },
  "language_info": {
   "codemirror_mode": {
    "name": "ipython",
    "version": 3
   },
   "file_extension": ".py",
   "mimetype": "text/x-python",
   "name": "python",
   "nbconvert_exporter": "python",
   "pygments_lexer": "ipython3",
   "version": "3.11.13"
  },
  "papermill": {
   "default_parameters": {},
   "duration": 115.929904,
   "end_time": "2025-10-19T08:58:26.836607",
   "environment_variables": {},
   "exception": null,
   "input_path": "__notebook__.ipynb",
   "output_path": "__notebook__.ipynb",
   "parameters": {},
   "start_time": "2025-10-19T08:56:30.906703",
   "version": "2.6.0"
  },
  "widgets": {
   "application/vnd.jupyter.widget-state+json": {
    "state": {
     "02398d8677f940a4b2c14b2ad3cc2d07": {
      "model_module": "@jupyter-widgets/controls",
      "model_module_version": "2.0.0",
      "model_name": "HTMLStyleModel",
      "state": {
       "_model_module": "@jupyter-widgets/controls",
       "_model_module_version": "2.0.0",
       "_model_name": "HTMLStyleModel",
       "_view_count": null,
       "_view_module": "@jupyter-widgets/base",
       "_view_module_version": "2.0.0",
       "_view_name": "StyleView",
       "background": null,
       "description_width": "",
       "font_size": null,
       "text_color": null
      }
     },
     "056ed31bb8df4f2aa5abac9b199c0180": {
      "model_module": "@jupyter-widgets/controls",
      "model_module_version": "2.0.0",
      "model_name": "HBoxModel",
      "state": {
       "_dom_classes": [],
       "_model_module": "@jupyter-widgets/controls",
       "_model_module_version": "2.0.0",
       "_model_name": "HBoxModel",
       "_view_count": null,
       "_view_module": "@jupyter-widgets/controls",
       "_view_module_version": "2.0.0",
       "_view_name": "HBoxView",
       "box_style": "",
       "children": [
        "IPY_MODEL_7ffc0061e03e4836bfc8e7ff50d08e7c",
        "IPY_MODEL_f28b713f5b314411b5c4b1ed5e6dd529",
        "IPY_MODEL_f5e25692f076440ea226f032843131d2"
       ],
       "layout": "IPY_MODEL_6b7544dfa5434c878288c08c566fe387",
       "tabbable": null,
       "tooltip": null
      }
     },
     "0f2ffaf8614346c5ac363727aae3d1c3": {
      "model_module": "@jupyter-widgets/controls",
      "model_module_version": "2.0.0",
      "model_name": "ProgressStyleModel",
      "state": {
       "_model_module": "@jupyter-widgets/controls",
       "_model_module_version": "2.0.0",
       "_model_name": "ProgressStyleModel",
       "_view_count": null,
       "_view_module": "@jupyter-widgets/base",
       "_view_module_version": "2.0.0",
       "_view_name": "StyleView",
       "bar_color": null,
       "description_width": ""
      }
     },
     "152105fbb74549b9a3df1030dd186642": {
      "model_module": "@jupyter-widgets/controls",
      "model_module_version": "2.0.0",
      "model_name": "HTMLModel",
      "state": {
       "_dom_classes": [],
       "_model_module": "@jupyter-widgets/controls",
       "_model_module_version": "2.0.0",
       "_model_name": "HTMLModel",
       "_view_count": null,
       "_view_module": "@jupyter-widgets/controls",
       "_view_module_version": "2.0.0",
       "_view_name": "HTMLView",
       "description": "",
       "description_allow_html": false,
       "layout": "IPY_MODEL_4debdcf77f83480a8429ac3876144328",
       "placeholder": "​",
       "style": "IPY_MODEL_b42f3860c7ea499aaeb1d347bda03165",
       "tabbable": null,
       "tooltip": null,
       "value": "Meta-Testing: 100%"
      }
     },
     "19a0657b436945b19920fcac8e5d9a24": {
      "model_module": "@jupyter-widgets/controls",
      "model_module_version": "2.0.0",
      "model_name": "ProgressStyleModel",
      "state": {
       "_model_module": "@jupyter-widgets/controls",
       "_model_module_version": "2.0.0",
       "_model_name": "ProgressStyleModel",
       "_view_count": null,
       "_view_module": "@jupyter-widgets/base",
       "_view_module_version": "2.0.0",
       "_view_name": "StyleView",
       "bar_color": null,
       "description_width": ""
      }
     },
     "2edcbd1838a14338ae1ce2e2d5972418": {
      "model_module": "@jupyter-widgets/controls",
      "model_module_version": "2.0.0",
      "model_name": "HTMLModel",
      "state": {
       "_dom_classes": [],
       "_model_module": "@jupyter-widgets/controls",
       "_model_module_version": "2.0.0",
       "_model_name": "HTMLModel",
       "_view_count": null,
       "_view_module": "@jupyter-widgets/controls",
       "_view_module_version": "2.0.0",
       "_view_name": "HTMLView",
       "description": "",
       "description_allow_html": false,
       "layout": "IPY_MODEL_c1b1c1b0e4304d0ea6d6a35c65e9ba11",
       "placeholder": "​",
       "style": "IPY_MODEL_3841b9c703a146979f339defdea9dde9",
       "tabbable": null,
       "tooltip": null,
       "value": " 160/160 [00:53&lt;00:00,  3.13it/s]"
      }
     },
     "31eeb1c9b0134376b886af123128f178": {
      "model_module": "@jupyter-widgets/base",
      "model_module_version": "2.0.0",
      "model_name": "LayoutModel",
      "state": {
       "_model_module": "@jupyter-widgets/base",
       "_model_module_version": "2.0.0",
       "_model_name": "LayoutModel",
       "_view_count": null,
       "_view_module": "@jupyter-widgets/base",
       "_view_module_version": "2.0.0",
       "_view_name": "LayoutView",
       "align_content": null,
       "align_items": null,
       "align_self": null,
       "border_bottom": null,
       "border_left": null,
       "border_right": null,
       "border_top": null,
       "bottom": null,
       "display": null,
       "flex": null,
       "flex_flow": null,
       "grid_area": null,
       "grid_auto_columns": null,
       "grid_auto_flow": null,
       "grid_auto_rows": null,
       "grid_column": null,
       "grid_gap": null,
       "grid_row": null,
       "grid_template_areas": null,
       "grid_template_columns": null,
       "grid_template_rows": null,
       "height": null,
       "justify_content": null,
       "justify_items": null,
       "left": null,
       "margin": null,
       "max_height": null,
       "max_width": null,
       "min_height": null,
       "min_width": null,
       "object_fit": null,
       "object_position": null,
       "order": null,
       "overflow": null,
       "padding": null,
       "right": null,
       "top": null,
       "visibility": "hidden",
       "width": null
      }
     },
     "3841b9c703a146979f339defdea9dde9": {
      "model_module": "@jupyter-widgets/controls",
      "model_module_version": "2.0.0",
      "model_name": "HTMLStyleModel",
      "state": {
       "_model_module": "@jupyter-widgets/controls",
       "_model_module_version": "2.0.0",
       "_model_name": "HTMLStyleModel",
       "_view_count": null,
       "_view_module": "@jupyter-widgets/base",
       "_view_module_version": "2.0.0",
       "_view_name": "StyleView",
       "background": null,
       "description_width": "",
       "font_size": null,
       "text_color": null
      }
     },
     "40aa04810bfc41dcb3aae6bb193b380a": {
      "model_module": "@jupyter-widgets/controls",
      "model_module_version": "2.0.0",
      "model_name": "HTMLStyleModel",
      "state": {
       "_model_module": "@jupyter-widgets/controls",
       "_model_module_version": "2.0.0",
       "_model_name": "HTMLStyleModel",
       "_view_count": null,
       "_view_module": "@jupyter-widgets/base",
       "_view_module_version": "2.0.0",
       "_view_name": "StyleView",
       "background": null,
       "description_width": "",
       "font_size": null,
       "text_color": null
      }
     },
     "4debdcf77f83480a8429ac3876144328": {
      "model_module": "@jupyter-widgets/base",
      "model_module_version": "2.0.0",
      "model_name": "LayoutModel",
      "state": {
       "_model_module": "@jupyter-widgets/base",
       "_model_module_version": "2.0.0",
       "_model_name": "LayoutModel",
       "_view_count": null,
       "_view_module": "@jupyter-widgets/base",
       "_view_module_version": "2.0.0",
       "_view_name": "LayoutView",
       "align_content": null,
       "align_items": null,
       "align_self": null,
       "border_bottom": null,
       "border_left": null,
       "border_right": null,
       "border_top": null,
       "bottom": null,
       "display": null,
       "flex": null,
       "flex_flow": null,
       "grid_area": null,
       "grid_auto_columns": null,
       "grid_auto_flow": null,
       "grid_auto_rows": null,
       "grid_column": null,
       "grid_gap": null,
       "grid_row": null,
       "grid_template_areas": null,
       "grid_template_columns": null,
       "grid_template_rows": null,
       "height": null,
       "justify_content": null,
       "justify_items": null,
       "left": null,
       "margin": null,
       "max_height": null,
       "max_width": null,
       "min_height": null,
       "min_width": null,
       "object_fit": null,
       "object_position": null,
       "order": null,
       "overflow": null,
       "padding": null,
       "right": null,
       "top": null,
       "visibility": null,
       "width": null
      }
     },
     "6b7544dfa5434c878288c08c566fe387": {
      "model_module": "@jupyter-widgets/base",
      "model_module_version": "2.0.0",
      "model_name": "LayoutModel",
      "state": {
       "_model_module": "@jupyter-widgets/base",
       "_model_module_version": "2.0.0",
       "_model_name": "LayoutModel",
       "_view_count": null,
       "_view_module": "@jupyter-widgets/base",
       "_view_module_version": "2.0.0",
       "_view_name": "LayoutView",
       "align_content": null,
       "align_items": null,
       "align_self": null,
       "border_bottom": null,
       "border_left": null,
       "border_right": null,
       "border_top": null,
       "bottom": null,
       "display": null,
       "flex": null,
       "flex_flow": null,
       "grid_area": null,
       "grid_auto_columns": null,
       "grid_auto_flow": null,
       "grid_auto_rows": null,
       "grid_column": null,
       "grid_gap": null,
       "grid_row": null,
       "grid_template_areas": null,
       "grid_template_columns": null,
       "grid_template_rows": null,
       "height": null,
       "justify_content": null,
       "justify_items": null,
       "left": null,
       "margin": null,
       "max_height": null,
       "max_width": null,
       "min_height": null,
       "min_width": null,
       "object_fit": null,
       "object_position": null,
       "order": null,
       "overflow": null,
       "padding": null,
       "right": null,
       "top": null,
       "visibility": "hidden",
       "width": null
      }
     },
     "7274fa936240441e9e60ff56da65538c": {
      "model_module": "@jupyter-widgets/controls",
      "model_module_version": "2.0.0",
      "model_name": "HBoxModel",
      "state": {
       "_dom_classes": [],
       "_model_module": "@jupyter-widgets/controls",
       "_model_module_version": "2.0.0",
       "_model_name": "HBoxModel",
       "_view_count": null,
       "_view_module": "@jupyter-widgets/controls",
       "_view_module_version": "2.0.0",
       "_view_name": "HBoxView",
       "box_style": "",
       "children": [
        "IPY_MODEL_152105fbb74549b9a3df1030dd186642",
        "IPY_MODEL_f33c874b7d1e45d0bd33caf2ea75844c",
        "IPY_MODEL_2edcbd1838a14338ae1ce2e2d5972418"
       ],
       "layout": "IPY_MODEL_31eeb1c9b0134376b886af123128f178",
       "tabbable": null,
       "tooltip": null
      }
     },
     "7ffc0061e03e4836bfc8e7ff50d08e7c": {
      "model_module": "@jupyter-widgets/controls",
      "model_module_version": "2.0.0",
      "model_name": "HTMLModel",
      "state": {
       "_dom_classes": [],
       "_model_module": "@jupyter-widgets/controls",
       "_model_module_version": "2.0.0",
       "_model_name": "HTMLModel",
       "_view_count": null,
       "_view_module": "@jupyter-widgets/controls",
       "_view_module_version": "2.0.0",
       "_view_name": "HTMLView",
       "description": "",
       "description_allow_html": false,
       "layout": "IPY_MODEL_d6d7bdc1ae2e40b4a53ff7ed9e24cb7e",
       "placeholder": "​",
       "style": "IPY_MODEL_02398d8677f940a4b2c14b2ad3cc2d07",
       "tabbable": null,
       "tooltip": null,
       "value": "Meta-Testing: 100%"
      }
     },
     "8dc45644a7984c0cbe809e39d87255cd": {
      "model_module": "@jupyter-widgets/base",
      "model_module_version": "2.0.0",
      "model_name": "LayoutModel",
      "state": {
       "_model_module": "@jupyter-widgets/base",
       "_model_module_version": "2.0.0",
       "_model_name": "LayoutModel",
       "_view_count": null,
       "_view_module": "@jupyter-widgets/base",
       "_view_module_version": "2.0.0",
       "_view_name": "LayoutView",
       "align_content": null,
       "align_items": null,
       "align_self": null,
       "border_bottom": null,
       "border_left": null,
       "border_right": null,
       "border_top": null,
       "bottom": null,
       "display": null,
       "flex": null,
       "flex_flow": null,
       "grid_area": null,
       "grid_auto_columns": null,
       "grid_auto_flow": null,
       "grid_auto_rows": null,
       "grid_column": null,
       "grid_gap": null,
       "grid_row": null,
       "grid_template_areas": null,
       "grid_template_columns": null,
       "grid_template_rows": null,
       "height": null,
       "justify_content": null,
       "justify_items": null,
       "left": null,
       "margin": null,
       "max_height": null,
       "max_width": null,
       "min_height": null,
       "min_width": null,
       "object_fit": null,
       "object_position": null,
       "order": null,
       "overflow": null,
       "padding": null,
       "right": null,
       "top": null,
       "visibility": null,
       "width": null
      }
     },
     "b42f3860c7ea499aaeb1d347bda03165": {
      "model_module": "@jupyter-widgets/controls",
      "model_module_version": "2.0.0",
      "model_name": "HTMLStyleModel",
      "state": {
       "_model_module": "@jupyter-widgets/controls",
       "_model_module_version": "2.0.0",
       "_model_name": "HTMLStyleModel",
       "_view_count": null,
       "_view_module": "@jupyter-widgets/base",
       "_view_module_version": "2.0.0",
       "_view_name": "StyleView",
       "background": null,
       "description_width": "",
       "font_size": null,
       "text_color": null
      }
     },
     "c1b1c1b0e4304d0ea6d6a35c65e9ba11": {
      "model_module": "@jupyter-widgets/base",
      "model_module_version": "2.0.0",
      "model_name": "LayoutModel",
      "state": {
       "_model_module": "@jupyter-widgets/base",
       "_model_module_version": "2.0.0",
       "_model_name": "LayoutModel",
       "_view_count": null,
       "_view_module": "@jupyter-widgets/base",
       "_view_module_version": "2.0.0",
       "_view_name": "LayoutView",
       "align_content": null,
       "align_items": null,
       "align_self": null,
       "border_bottom": null,
       "border_left": null,
       "border_right": null,
       "border_top": null,
       "bottom": null,
       "display": null,
       "flex": null,
       "flex_flow": null,
       "grid_area": null,
       "grid_auto_columns": null,
       "grid_auto_flow": null,
       "grid_auto_rows": null,
       "grid_column": null,
       "grid_gap": null,
       "grid_row": null,
       "grid_template_areas": null,
       "grid_template_columns": null,
       "grid_template_rows": null,
       "height": null,
       "justify_content": null,
       "justify_items": null,
       "left": null,
       "margin": null,
       "max_height": null,
       "max_width": null,
       "min_height": null,
       "min_width": null,
       "object_fit": null,
       "object_position": null,
       "order": null,
       "overflow": null,
       "padding": null,
       "right": null,
       "top": null,
       "visibility": null,
       "width": null
      }
     },
     "c98bfda9593748e39535d7667a30c6cd": {
      "model_module": "@jupyter-widgets/base",
      "model_module_version": "2.0.0",
      "model_name": "LayoutModel",
      "state": {
       "_model_module": "@jupyter-widgets/base",
       "_model_module_version": "2.0.0",
       "_model_name": "LayoutModel",
       "_view_count": null,
       "_view_module": "@jupyter-widgets/base",
       "_view_module_version": "2.0.0",
       "_view_name": "LayoutView",
       "align_content": null,
       "align_items": null,
       "align_self": null,
       "border_bottom": null,
       "border_left": null,
       "border_right": null,
       "border_top": null,
       "bottom": null,
       "display": null,
       "flex": null,
       "flex_flow": null,
       "grid_area": null,
       "grid_auto_columns": null,
       "grid_auto_flow": null,
       "grid_auto_rows": null,
       "grid_column": null,
       "grid_gap": null,
       "grid_row": null,
       "grid_template_areas": null,
       "grid_template_columns": null,
       "grid_template_rows": null,
       "height": null,
       "justify_content": null,
       "justify_items": null,
       "left": null,
       "margin": null,
       "max_height": null,
       "max_width": null,
       "min_height": null,
       "min_width": null,
       "object_fit": null,
       "object_position": null,
       "order": null,
       "overflow": null,
       "padding": null,
       "right": null,
       "top": null,
       "visibility": null,
       "width": null
      }
     },
     "d6d7bdc1ae2e40b4a53ff7ed9e24cb7e": {
      "model_module": "@jupyter-widgets/base",
      "model_module_version": "2.0.0",
      "model_name": "LayoutModel",
      "state": {
       "_model_module": "@jupyter-widgets/base",
       "_model_module_version": "2.0.0",
       "_model_name": "LayoutModel",
       "_view_count": null,
       "_view_module": "@jupyter-widgets/base",
       "_view_module_version": "2.0.0",
       "_view_name": "LayoutView",
       "align_content": null,
       "align_items": null,
       "align_self": null,
       "border_bottom": null,
       "border_left": null,
       "border_right": null,
       "border_top": null,
       "bottom": null,
       "display": null,
       "flex": null,
       "flex_flow": null,
       "grid_area": null,
       "grid_auto_columns": null,
       "grid_auto_flow": null,
       "grid_auto_rows": null,
       "grid_column": null,
       "grid_gap": null,
       "grid_row": null,
       "grid_template_areas": null,
       "grid_template_columns": null,
       "grid_template_rows": null,
       "height": null,
       "justify_content": null,
       "justify_items": null,
       "left": null,
       "margin": null,
       "max_height": null,
       "max_width": null,
       "min_height": null,
       "min_width": null,
       "object_fit": null,
       "object_position": null,
       "order": null,
       "overflow": null,
       "padding": null,
       "right": null,
       "top": null,
       "visibility": null,
       "width": null
      }
     },
     "f1bfa92b1e7942d787aa7bb2a20ce317": {
      "model_module": "@jupyter-widgets/base",
      "model_module_version": "2.0.0",
      "model_name": "LayoutModel",
      "state": {
       "_model_module": "@jupyter-widgets/base",
       "_model_module_version": "2.0.0",
       "_model_name": "LayoutModel",
       "_view_count": null,
       "_view_module": "@jupyter-widgets/base",
       "_view_module_version": "2.0.0",
       "_view_name": "LayoutView",
       "align_content": null,
       "align_items": null,
       "align_self": null,
       "border_bottom": null,
       "border_left": null,
       "border_right": null,
       "border_top": null,
       "bottom": null,
       "display": null,
       "flex": null,
       "flex_flow": null,
       "grid_area": null,
       "grid_auto_columns": null,
       "grid_auto_flow": null,
       "grid_auto_rows": null,
       "grid_column": null,
       "grid_gap": null,
       "grid_row": null,
       "grid_template_areas": null,
       "grid_template_columns": null,
       "grid_template_rows": null,
       "height": null,
       "justify_content": null,
       "justify_items": null,
       "left": null,
       "margin": null,
       "max_height": null,
       "max_width": null,
       "min_height": null,
       "min_width": null,
       "object_fit": null,
       "object_position": null,
       "order": null,
       "overflow": null,
       "padding": null,
       "right": null,
       "top": null,
       "visibility": null,
       "width": null
      }
     },
     "f28b713f5b314411b5c4b1ed5e6dd529": {
      "model_module": "@jupyter-widgets/controls",
      "model_module_version": "2.0.0",
      "model_name": "FloatProgressModel",
      "state": {
       "_dom_classes": [],
       "_model_module": "@jupyter-widgets/controls",
       "_model_module_version": "2.0.0",
       "_model_name": "FloatProgressModel",
       "_view_count": null,
       "_view_module": "@jupyter-widgets/controls",
       "_view_module_version": "2.0.0",
       "_view_name": "ProgressView",
       "bar_style": "",
       "description": "",
       "description_allow_html": false,
       "layout": "IPY_MODEL_c98bfda9593748e39535d7667a30c6cd",
       "max": 100.0,
       "min": 0.0,
       "orientation": "horizontal",
       "style": "IPY_MODEL_0f2ffaf8614346c5ac363727aae3d1c3",
       "tabbable": null,
       "tooltip": null,
       "value": 100.0
      }
     },
     "f33c874b7d1e45d0bd33caf2ea75844c": {
      "model_module": "@jupyter-widgets/controls",
      "model_module_version": "2.0.0",
      "model_name": "FloatProgressModel",
      "state": {
       "_dom_classes": [],
       "_model_module": "@jupyter-widgets/controls",
       "_model_module_version": "2.0.0",
       "_model_name": "FloatProgressModel",
       "_view_count": null,
       "_view_module": "@jupyter-widgets/controls",
       "_view_module_version": "2.0.0",
       "_view_name": "ProgressView",
       "bar_style": "",
       "description": "",
       "description_allow_html": false,
       "layout": "IPY_MODEL_f1bfa92b1e7942d787aa7bb2a20ce317",
       "max": 160.0,
       "min": 0.0,
       "orientation": "horizontal",
       "style": "IPY_MODEL_19a0657b436945b19920fcac8e5d9a24",
       "tabbable": null,
       "tooltip": null,
       "value": 160.0
      }
     },
     "f5e25692f076440ea226f032843131d2": {
      "model_module": "@jupyter-widgets/controls",
      "model_module_version": "2.0.0",
      "model_name": "HTMLModel",
      "state": {
       "_dom_classes": [],
       "_model_module": "@jupyter-widgets/controls",
       "_model_module_version": "2.0.0",
       "_model_name": "HTMLModel",
       "_view_count": null,
       "_view_module": "@jupyter-widgets/controls",
       "_view_module_version": "2.0.0",
       "_view_name": "HTMLView",
       "description": "",
       "description_allow_html": false,
       "layout": "IPY_MODEL_8dc45644a7984c0cbe809e39d87255cd",
       "placeholder": "​",
       "style": "IPY_MODEL_40aa04810bfc41dcb3aae6bb193b380a",
       "tabbable": null,
       "tooltip": null,
       "value": " 100/100 [00:30&lt;00:00,  3.50it/s]"
      }
     }
    },
    "version_major": 2,
    "version_minor": 0
   }
  }
 },
 "nbformat": 4,
 "nbformat_minor": 5
}
